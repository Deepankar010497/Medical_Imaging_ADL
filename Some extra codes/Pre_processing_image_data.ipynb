{
  "nbformat": 4,
  "nbformat_minor": 0,
  "metadata": {
    "colab": {
      "name": "Pre_processing_image_data.ipynb",
      "provenance": [],
      "collapsed_sections": []
    },
    "kernelspec": {
      "name": "python3",
      "display_name": "Python 3"
    },
    "language_info": {
      "name": "python"
    },
    "accelerator": "TPU"
  },
  "cells": [
    {
      "cell_type": "markdown",
      "source": [
        "# CNN Model Building and Training Notebook\n",
        "\n",
        "### This code is in developmental stage. Later will be translated for Azure Cloud implementation. \n",
        "\n",
        "### To use this code, dataset has been stored in google drive and gdrive path is mounted for use in notebook. "
      ],
      "metadata": {
        "id": "V11_XlN7pR7u"
      }
    },
    {
      "cell_type": "code",
      "source": [
        "try:\n",
        "  import os, sys \n",
        "  #to be able to interact with Google Drive's operating system\n",
        "  from google.colab import drive \n",
        "  #drive is a module that allows us use Python to interact with google drive\n",
        "  drive.mount('/content/gdrive') \n",
        "  #mounting google drive allows us to work with its contents\n",
        "  nb_path = '/content/notebooks'\n",
        "  os.symlink('/content/gdrive/My Drive/Colab Notebooks', nb_path)\n",
        "  sys.path.insert(0, nb_path)  # or append(nb_path)\n",
        "  #The last three lines are what changes the path of the file.\n",
        "except:\n",
        "  print(\"Drive already mounted and ready to use!\")"
      ],
      "metadata": {
        "colab": {
          "base_uri": "https://localhost:8080/"
        },
        "id": "baqnWATzpPWB",
        "outputId": "43fde294-1502-4db5-dc6a-742c434540ba"
      },
      "execution_count": 1,
      "outputs": [
        {
          "output_type": "stream",
          "name": "stdout",
          "text": [
            "Drive already mounted at /content/gdrive; to attempt to forcibly remount, call drive.mount(\"/content/gdrive\", force_remount=True).\n",
            "Drive already mounted and ready to use!\n"
          ]
        }
      ]
    },
    {
      "cell_type": "code",
      "source": [
        "from google.colab import drive\n",
        "drive.mount('/content/gdrive')"
      ],
      "metadata": {
        "colab": {
          "base_uri": "https://localhost:8080/"
        },
        "id": "aCNrsM5ZpQOG",
        "outputId": "26ed3eae-adbc-48fd-87ad-f104495fba13"
      },
      "execution_count": 2,
      "outputs": [
        {
          "output_type": "stream",
          "name": "stdout",
          "text": [
            "Drive already mounted at /content/gdrive; to attempt to forcibly remount, call drive.mount(\"/content/gdrive\", force_remount=True).\n"
          ]
        }
      ]
    },
    {
      "cell_type": "code",
      "source": [
        "import sys\n",
        "sys.path.append('/content/gdrive/My Drive/Colab Notebooks')"
      ],
      "metadata": {
        "id": "rT17viZMpQRH"
      },
      "execution_count": 3,
      "outputs": []
    },
    {
      "cell_type": "code",
      "source": [
        "# Storing all required paths for later use\n",
        "\n",
        "main_cwd = r'/content/gdrive/My Drive/Colab Notebooks/CNN_Medical_Imaging'\n",
        "model_cwd = os.path.join(main_cwd, \"Models\")\n",
        "dataset_cwd = os.path.join(main_cwd, \"Datasets\")\n",
        "image_data_cwd = os.path.join(main_cwd, \"Saved Image Data Arrays\")\n",
        "saved_models_cwd = os.path.join(main_cwd, \"Saved_models\")\n",
        "model_checkpoints_cwd = os.path.join(main_cwd, \"Model_check_points\")\n",
        "healthy_bones_dataset_cwd = os.path.join(dataset_cwd, \"Healthy_bones\")\n",
        "fractured_bones_dataset_cwd = os.path.join(dataset_cwd, \"Fractured_bones\")\n",
        "beyond_repair_bones_dataset_cwd = os.path.join(dataset_cwd, \"Bones_beyond_repair\")\n",
        "train_test_valid_x_image_data = os.path.join(image_data_cwd, \"train_test_valid_x_images_compressed_data_array_224.npz\")\n",
        "train_test_valid_y_labels_data = os.path.join(image_data_cwd, \"train_test_valid_y_labels_compressed_array_224.npy\")\n"
      ],
      "metadata": {
        "id": "Gclzrlvhlz-v"
      },
      "execution_count": 4,
      "outputs": []
    },
    {
      "cell_type": "code",
      "execution_count": 5,
      "metadata": {
        "id": "4M9KYt1Oq-8N"
      },
      "outputs": [],
      "source": [
        "# Importing required libraries\n",
        "\n",
        "from tensorflow import keras\n",
        "from tensorflow.keras.models import Sequential\n",
        "from tensorflow.keras.utils import plot_model\n",
        "from tensorflow.keras.layers import Dense, Conv2D , MaxPool2D , Flatten , Dropout\n",
        "from tensorflow.keras.preprocessing.image import ImageDataGenerator\n",
        "from keras.preprocessing.image import load_img, img_to_array, array_to_img\n",
        "from keras.callbacks import ModelCheckpoint, EarlyStopping, ReduceLROnPlateau\n",
        "from keras.layers import BatchNormalization, Activation\n",
        "from sklearn.metrics import confusion_matrix, classification_report\n",
        "from sklearn.utils.class_weight import compute_class_weight\n",
        "from sklearn.model_selection import train_test_split\n",
        "from tensorflow.keras.optimizers import Adam, RMSprop\n",
        "import matplotlib.pyplot as plt\n",
        "import seaborn as sns\n",
        "import tensorflow as tf\n",
        "import numpy as np\n",
        "import warnings\n",
        "import cv2\n",
        "import re\n",
        "import os\n"
      ]
    },
    {
      "cell_type": "code",
      "source": [
        "warnings.filterwarnings(\"ignore\", category=DeprecationWarning)\n",
        "warnings.filterwarnings(\"ignore\")"
      ],
      "metadata": {
        "id": "bQfjT_DEtEPN"
      },
      "execution_count": 6,
      "outputs": []
    },
    {
      "cell_type": "markdown",
      "source": [
        "## Helper functions"
      ],
      "metadata": {
        "id": "Tp7p9tGkz-bb"
      }
    },
    {
      "cell_type": "code",
      "source": [
        "def get_cwd_files(path):\n",
        "\n",
        "  ignore_files = [\".gitkeep\", \".gitignore\"]\n",
        "  path_files = os.listdir(path)\n",
        "  path_files = [file for file in path_files if file not in ignore_files]\n",
        "\n",
        "  return path_files"
      ],
      "metadata": {
        "id": "5adZGsvUuJI9"
      },
      "execution_count": 7,
      "outputs": []
    },
    {
      "cell_type": "code",
      "source": [
        "def get_image_data(image_data_process_directory, image_resize_value):\n",
        "\n",
        "  # Classes for our prediction\n",
        "  classification_classes = [\"Healthy_bones\", \"Fractured_bones\"]\n",
        "  classification_classes_dict = {1:\"Healthy_bones\", 2:\"Fractured_bones\", 3:\"Bones_beyond_repair\"}\n",
        "  # Set Image size\n",
        "  img_size = image_resize_value\n",
        "\n",
        "  #flag_counter = 0\n",
        "  # Processing image to array\n",
        "  #data = []\n",
        "  image_data = []\n",
        "  label_data = []\n",
        "  for each_class in classification_classes:\n",
        "    #flag_counter = 0\n",
        "    class_category_number = classification_classes.index(each_class)\n",
        "    bone_class_img_path = os.path.join(image_data_process_directory, each_class)\n",
        "    #print(bone_class_img_path)\n",
        "    bone_images = get_cwd_files(bone_class_img_path)\n",
        "    for bone_image in bone_images:\n",
        "      \n",
        "      '''\n",
        "      if flag_counter == 10:\n",
        "        break\n",
        "      flag_counter += 1'''\n",
        "\n",
        "      bone_image_path = os.path.join(bone_class_img_path, bone_image)\n",
        "      #print(bone_image_path)\n",
        "      try:\n",
        "        x_ray_image = load_img(bone_image_path, color_mode=\"grayscale\", target_size=(img_size, img_size))\n",
        "        x_ray_image = img_to_array(x_ray_image)\n",
        "        image_data.append(x_ray_image)\n",
        "        label_data.append(class_category_number)\n",
        "        #print(x_ray_image.shape)\n",
        "        #data.append([x_ray_image, class_category_number])\n",
        "      except:\n",
        "        print(\"Some error occured in fetching data!\")\n",
        "\n",
        "  \n",
        "  #data = np.array(data)\n",
        "  image_data = np.array(image_data)\n",
        "  label_data = np.array(label_data) \n",
        "  \n",
        "  return image_data, label_data  \n"
      ],
      "metadata": {
        "id": "-UZbxD1CuEvy"
      },
      "execution_count": 8,
      "outputs": []
    },
    {
      "cell_type": "markdown",
      "source": [
        "## Main Program"
      ],
      "metadata": {
        "id": "0DVsOQeG0GTS"
      }
    },
    {
      "cell_type": "markdown",
      "source": [
        "Pre processing images to arrays and storing them is done only for the first run and for subsequent runs load the saved array images files for further work to reduce time."
      ],
      "metadata": {
        "id": "f7_LWgk5d_wt"
      }
    },
    {
      "cell_type": "code",
      "source": [
        "# Processing train data images\n",
        "train_test_valid_x, train_test_valid_y = get_image_data(dataset_cwd, image_resize_value = 128)"
      ],
      "metadata": {
        "id": "2ei3jZBovePp"
      },
      "execution_count": 9,
      "outputs": []
    },
    {
      "cell_type": "code",
      "source": [
        "img_pil = array_to_img(train_test_valid_x[5222])\n",
        "plt.imshow(img_pil, interpolation='nearest')\n",
        "plt.show()"
      ],
      "metadata": {
        "colab": {
          "base_uri": "https://localhost:8080/",
          "height": 268
        },
        "id": "DbUuXNmdMc7n",
        "outputId": "80560ea1-5b74-41d6-a512-edc9d060b2a6"
      },
      "execution_count": 18,
      "outputs": [
        {
          "output_type": "display_data",
          "data": {
            "text/plain": [
              "<Figure size 432x288 with 1 Axes>"
            ],
            "image/png": "[encoded data removed]"
          },
          "metadata": {
            "needs_background": "light"
          }
        }
      ]
    },
    {
      "cell_type": "markdown",
      "source": [
        "## Storing values of the image processed array data in csv files"
      ],
      "metadata": {
        "id": "PmETMCmoQ0yM"
      }
    },
    {
      "cell_type": "code",
      "source": [
        "# Storing Train_test_valid image array values\n",
        "\n",
        "# For train_test_valid_x compressed values\n",
        "np.savez_compressed(\"train_test_valid_x_greyscale_images_compressed_data_array_128\", train_test_valid_array = train_test_valid_x)\n",
        "\n",
        "# For train_test_valid_y compressed values\n",
        "np.save(\"train_test_valid_y_greyscale_labels_compressed_array_128\", train_test_valid_y)\n"
      ],
      "metadata": {
        "id": "iPOnKQyDQ02H"
      },
      "execution_count": 19,
      "outputs": []
    },
    {
      "cell_type": "markdown",
      "source": [
        "## Loading Image arrays from the saved files"
      ],
      "metadata": {
        "id": "A799XQnuY12e"
      }
    },
    {
      "cell_type": "code",
      "source": [
        "# Loading Train image compressed array values\n",
        "\n",
        "# For train_x values\n",
        "model_train_test_valid_x = np.load(train_test_valid_x_image_data)[\"train_test_valid_array\"]\n",
        "\n",
        "# For train_y values\n",
        "model_train_test_valid_y = np.load(train_test_valid_y_labels_data)"
      ],
      "metadata": {
        "id": "PaMVEi5SY2kH"
      },
      "execution_count": null,
      "outputs": []
    },
    {
      "cell_type": "code",
      "source": [
        "# Creating train and test dataset\n",
        "train_valid_x, model_test_x, train_valid_y, model_test_y = train_test_split(model_train_test_valid_x, model_train_test_valid_y, random_state = 42, stratify = model_train_test_valid_y, test_size = 0.10)"
      ],
      "metadata": {
        "id": "Eq-VA43z2cBL"
      },
      "execution_count": null,
      "outputs": []
    },
    {
      "cell_type": "code",
      "source": [
        "# Creating train and test dataset\n",
        "model_train_x, model_valid_x, model_train_y, model_valid_y = train_test_split(train_valid_x, train_valid_y, random_state = 42, stratify = train_valid_y, test_size = 0.15)"
      ],
      "metadata": {
        "id": "MWVrMnXF5ZDh"
      },
      "execution_count": null,
      "outputs": []
    },
    {
      "cell_type": "code",
      "source": [
        "# Removing specific variables from runtime to save RAM\n",
        "del model_train_test_valid_x, model_train_test_valid_y, train_valid_x, train_valid_y"
      ],
      "metadata": {
        "id": "JeOc6m8DefY4"
      },
      "execution_count": null,
      "outputs": []
    },
    {
      "cell_type": "code",
      "source": [
        "# Normalizing values\n",
        "model_train_x, model_train_y = model_train_x/255, model_train_y\n",
        "model_test_x, model_test_y = model_test_x/255, model_test_y\n",
        "model_valid_x, model_valid_y = model_valid_x/255, model_valid_y"
      ],
      "metadata": {
        "id": "HragKFD5nIPP"
      },
      "execution_count": null,
      "outputs": []
    },
    {
      "cell_type": "code",
      "source": [
        ""
      ],
      "metadata": {
        "id": "ytG8h48voCtw"
      },
      "execution_count": null,
      "outputs": []
    },
    {
      "cell_type": "code",
      "source": [
        ""
      ],
      "metadata": {
        "id": "3UD3LOdl5Qly"
      },
      "execution_count": null,
      "outputs": []
    },
    {
      "cell_type": "code",
      "source": [
        ""
      ],
      "metadata": {
        "id": "oSCmHmDg5Qoy"
      },
      "execution_count": null,
      "outputs": []
    },
    {
      "cell_type": "code",
      "source": [
        ""
      ],
      "metadata": {
        "id": "wDkjyh9x5Qr4"
      },
      "execution_count": null,
      "outputs": []
    },
    {
      "cell_type": "code",
      "source": [
        ""
      ],
      "metadata": {
        "id": "ZvsQZ392oCwX"
      },
      "execution_count": null,
      "outputs": []
    },
    {
      "cell_type": "code",
      "source": [
        ""
      ],
      "metadata": {
        "id": "c_-oNFnIoCzp"
      },
      "execution_count": null,
      "outputs": []
    }
  ]
}