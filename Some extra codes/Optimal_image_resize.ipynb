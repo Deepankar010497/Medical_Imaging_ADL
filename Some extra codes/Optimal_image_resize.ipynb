{
  "nbformat": 4,
  "nbformat_minor": 0,
  "metadata": {
    "colab": {
      "name": "Optimal_image_resize.ipynb",
      "provenance": [],
      "collapsed_sections": []
    },
    "kernelspec": {
      "name": "python3",
      "display_name": "Python 3"
    },
    "language_info": {
      "name": "python"
    }
  },
  "cells": [
    {
      "cell_type": "code",
      "execution_count": 1,
      "metadata": {
        "colab": {
          "base_uri": "https://localhost:8080/"
        },
        "id": "VZRnY4ywyyxg",
        "outputId": "cbe2949c-a264-4af0-9bc5-5532d432860c"
      },
      "outputs": [
        {
          "output_type": "stream",
          "name": "stdout",
          "text": [
            "Drive already mounted at /content/gdrive; to attempt to forcibly remount, call drive.mount(\"/content/gdrive\", force_remount=True).\n",
            "Drive already mounted and ready to use!\n"
          ]
        }
      ],
      "source": [
        "try:\n",
        "  import os, sys \n",
        "  #to be able to interact with Google Drive's operating system\n",
        "  from google.colab import drive \n",
        "  #drive is a module that allows us use Python to interact with google drive\n",
        "  drive.mount('/content/gdrive') \n",
        "  #mounting google drive allows us to work with its contents\n",
        "  nb_path = '/content/notebooks'\n",
        "  os.symlink('/content/gdrive/My Drive/Colab Notebooks', nb_path)\n",
        "  sys.path.insert(0, nb_path)  # or append(nb_path)\n",
        "  #The last three lines are what changes the path of the file.\n",
        "except:\n",
        "  print(\"Drive already mounted and ready to use!\")"
      ]
    },
    {
      "cell_type": "code",
      "source": [
        "from google.colab import drive\n",
        "drive.mount('/content/gdrive')"
      ],
      "metadata": {
        "colab": {
          "base_uri": "https://localhost:8080/"
        },
        "id": "IqMvfCJazFet",
        "outputId": "de28342e-8d4c-4081-8abc-3368eecbb19a"
      },
      "execution_count": 2,
      "outputs": [
        {
          "output_type": "stream",
          "name": "stdout",
          "text": [
            "Drive already mounted at /content/gdrive; to attempt to forcibly remount, call drive.mount(\"/content/gdrive\", force_remount=True).\n"
          ]
        }
      ]
    },
    {
      "cell_type": "code",
      "source": [
        "import sys\n",
        "sys.path.append('/content/gdrive/My Drive/Colab Notebooks')"
      ],
      "metadata": {
        "id": "7j3Tai8yzHU1"
      },
      "execution_count": 3,
      "outputs": []
    },
    {
      "cell_type": "code",
      "source": [
        "# Storing all required paths for later use\n",
        "\n",
        "main_cwd = r'/content/gdrive/My Drive/Colab Notebooks/CNN_Medical_Imaging'\n",
        "dataset_cwd = os.path.join(main_cwd, \"Datasets\")\n",
        "healthy_bones_dataset_cwd = os.path.join(dataset_cwd, \"Healthy_bones\")\n",
        "fractured_bones_dataset_cwd = os.path.join(dataset_cwd, \"Fractured_bones\")\n",
        "beyond_repair_bones_dataset_cwd = os.path.join(dataset_cwd, \"Bones_beyond_repair\")"
      ],
      "metadata": {
        "id": "LOTErTYnzJmc"
      },
      "execution_count": 4,
      "outputs": []
    },
    {
      "cell_type": "code",
      "source": [
        "# Import Packages\n",
        "import pandas as pd\n",
        "import matplotlib.pyplot  as plt\n",
        "from PIL import Image\n",
        "import imagesize\n",
        "import numpy as np\n",
        "from sklearn.cluster import KMeans"
      ],
      "metadata": {
        "id": "bUTaNaeOz8_t"
      },
      "execution_count": 5,
      "outputs": []
    },
    {
      "cell_type": "code",
      "source": [
        "def get_cwd_files(path):\n",
        "\n",
        "  ignore_files = [\".gitkeep\", \".gitignore\"]\n",
        "  path_files = os.listdir(path)\n",
        "  path_files = [file for file in path_files if file not in ignore_files]\n",
        "\n",
        "  return path_files"
      ],
      "metadata": {
        "id": "hwz7HURIz_4v"
      },
      "execution_count": 6,
      "outputs": []
    },
    {
      "cell_type": "code",
      "source": [
        "def get_image_resolution(image_data_process_directory, classification_classes):\n",
        "\n",
        "  # Classes for our prediction\n",
        "  classification_classes_dict = {1:\"Healthy_bones\", 2:\"Fractured_bones\", 3:\"Bones_beyond_repair\"}\n",
        "\n",
        "  #flag_counter = 0\n",
        "  img_meta = {}\n",
        "  for each_class in classification_classes:\n",
        "    #flag_counter = 0\n",
        "    class_category_number = classification_classes.index(each_class)\n",
        "    bone_class_img_path = os.path.join(image_data_process_directory, each_class)\n",
        "    #print(bone_class_img_path)\n",
        "    bone_images = get_cwd_files(bone_class_img_path)\n",
        "    for bone_image in bone_images:\n",
        "      \n",
        "      '''\n",
        "      if flag_counter == 10:\n",
        "        break\n",
        "      flag_counter += 1'''\n",
        "      \n",
        "      bone_image_path = os.path.join(bone_class_img_path, bone_image)\n",
        "      #print(bone_image_path)\n",
        "      try:\n",
        "        img_meta[str(bone_image)] = imagesize.get(bone_image_path)\n",
        "      except:\n",
        "        print(\"Some error occured in fetching data!\")\n",
        "      \n",
        "  # Convert it to Dataframe and compute aspect ratio\n",
        "  img_meta_df = pd.DataFrame.from_dict([img_meta]).T.reset_index().set_axis(['Image_Name', 'Image_Size'], axis='columns', inplace=False)\n",
        "  img_meta_df[[\"Width\", \"Height\"]] = pd.DataFrame(img_meta_df[\"Image_Size\"].tolist(), index=img_meta_df.index)\n",
        "  img_meta_df[\"Aspect Ratio\"] = round(img_meta_df[\"Width\"] / img_meta_df[\"Height\"], 2)\n",
        "\n",
        "  \n",
        "  return  img_meta, img_meta_df\n"
      ],
      "metadata": {
        "id": "iUgfeIVrz_95"
      },
      "execution_count": 7,
      "outputs": []
    },
    {
      "cell_type": "code",
      "source": [
        "# Get resolutions for the selected class images\n",
        "classification_classes = [\"Healthy_bones\", \"Fractured_bones\"]\n",
        "image_meta, image_meta_df = get_image_resolution(dataset_cwd, classification_classes)"
      ],
      "metadata": {
        "id": "jvnP978q0ADc"
      },
      "execution_count": 8,
      "outputs": []
    },
    {
      "cell_type": "code",
      "source": [
        "# Sneak Peak\n",
        "print(f\"The total number of images processed are {len(image_meta_df)}\")\n",
        "image_meta_df.head()"
      ],
      "metadata": {
        "colab": {
          "base_uri": "https://localhost:8080/",
          "height": 223
        },
        "id": "F8dotY1y0AHh",
        "outputId": "0f35fe72-6736-415d-fa8e-37ce53485a70"
      },
      "execution_count": 9,
      "outputs": [
        {
          "output_type": "stream",
          "name": "stdout",
          "text": [
            "The total number of images processed are 6013\n"
          ]
        },
        {
          "output_type": "execute_result",
          "data": {
            "text/plain": [
              "                    Image_Name  Image_Size  Width  Height  Aspect Ratio\n",
              "0  healthy_bone_image_3309.png  (372, 512)    372     512          0.73\n",
              "1  healthy_bone_image_3326.png  (406, 512)    406     512          0.79\n",
              "2  healthy_bone_image_3330.png  (362, 512)    362     512          0.71\n",
              "3  healthy_bone_image_3340.png  (382, 512)    382     512          0.75\n",
              "4  healthy_bone_image_3331.png  (512, 415)    512     415          1.23"
            ],
            "text/html": [
              "\n",
              "  <div id=\"df-baeacd9b-013b-49ed-a1a5-6031e7d8b817\">\n",
              "    <div class=\"colab-df-container\">\n",
              "      <div>\n",
              "<style scoped>\n",
              "    .dataframe tbody tr th:only-of-type {\n",
              "        vertical-align: middle;\n",
              "    }\n",
              "\n",
              "    .dataframe tbody tr th {\n",
              "        vertical-align: top;\n",
              "    }\n",
              "\n",
              "    .dataframe thead th {\n",
              "        text-align: right;\n",
              "    }\n",
              "</style>\n",
              "<table border=\"1\" class=\"dataframe\">\n",
              "  <thead>\n",
              "    <tr style=\"text-align: right;\">\n",
              "      <th></th>\n",
              "      <th>Image_Name</th>\n",
              "      <th>Image_Size</th>\n",
              "      <th>Width</th>\n",
              "      <th>Height</th>\n",
              "      <th>Aspect Ratio</th>\n",
              "    </tr>\n",
              "  </thead>\n",
              "  <tbody>\n",
              "    <tr>\n",
              "      <th>0</th>\n",
              "      <td>healthy_bone_image_3309.png</td>\n",
              "      <td>(372, 512)</td>\n",
              "      <td>372</td>\n",
              "      <td>512</td>\n",
              "      <td>0.73</td>\n",
              "    </tr>\n",
              "    <tr>\n",
              "      <th>1</th>\n",
              "      <td>healthy_bone_image_3326.png</td>\n",
              "      <td>(406, 512)</td>\n",
              "      <td>406</td>\n",
              "      <td>512</td>\n",
              "      <td>0.79</td>\n",
              "    </tr>\n",
              "    <tr>\n",
              "      <th>2</th>\n",
              "      <td>healthy_bone_image_3330.png</td>\n",
              "      <td>(362, 512)</td>\n",
              "      <td>362</td>\n",
              "      <td>512</td>\n",
              "      <td>0.71</td>\n",
              "    </tr>\n",
              "    <tr>\n",
              "      <th>3</th>\n",
              "      <td>healthy_bone_image_3340.png</td>\n",
              "      <td>(382, 512)</td>\n",
              "      <td>382</td>\n",
              "      <td>512</td>\n",
              "      <td>0.75</td>\n",
              "    </tr>\n",
              "    <tr>\n",
              "      <th>4</th>\n",
              "      <td>healthy_bone_image_3331.png</td>\n",
              "      <td>(512, 415)</td>\n",
              "      <td>512</td>\n",
              "      <td>415</td>\n",
              "      <td>1.23</td>\n",
              "    </tr>\n",
              "  </tbody>\n",
              "</table>\n",
              "</div>\n",
              "      <button class=\"colab-df-convert\" onclick=\"convertToInteractive('df-baeacd9b-013b-49ed-a1a5-6031e7d8b817')\"\n",
              "              title=\"Convert this dataframe to an interactive table.\"\n",
              "              style=\"display:none;\">\n",
              "        \n",
              "  <svg xmlns=\"http://www.w3.org/2000/svg\" height=\"24px\"viewBox=\"0 0 24 24\"\n",
              "       width=\"24px\">\n",
              "    <path d=\"M0 0h24v24H0V0z\" fill=\"none\"/>\n",
              "    <path d=\"M18.56 5.44l.94 2.06.94-2.06 2.06-.94-2.06-.94-.94-2.06-.94 2.06-2.06.94zm-11 1L8.5 8.5l.94-2.06 2.06-.94-2.06-.94L8.5 2.5l-.94 2.06-2.06.94zm10 10l.94 2.06.94-2.06 2.06-.94-2.06-.94-.94-2.06-.94 2.06-2.06.94z\"/><path d=\"M17.41 7.96l-1.37-1.37c-.4-.4-.92-.59-1.43-.59-.52 0-1.04.2-1.43.59L10.3 9.45l-7.72 7.72c-.78.78-.78 2.05 0 2.83L4 21.41c.39.39.9.59 1.41.59.51 0 1.02-.2 1.41-.59l7.78-7.78 2.81-2.81c.8-.78.8-2.07 0-2.86zM5.41 20L4 18.59l7.72-7.72 1.47 1.35L5.41 20z\"/>\n",
              "  </svg>\n",
              "      </button>\n",
              "      \n",
              "  <style>\n",
              "    .colab-df-container {\n",
              "      display:flex;\n",
              "      flex-wrap:wrap;\n",
              "      gap: 12px;\n",
              "    }\n",
              "\n",
              "    .colab-df-convert {\n",
              "      background-color: #E8F0FE;\n",
              "      border: none;\n",
              "      border-radius: 50%;\n",
              "      cursor: pointer;\n",
              "      display: none;\n",
              "      fill: #1967D2;\n",
              "      height: 32px;\n",
              "      padding: 0 0 0 0;\n",
              "      width: 32px;\n",
              "    }\n",
              "\n",
              "    .colab-df-convert:hover {\n",
              "      background-color: #E2EBFA;\n",
              "      box-shadow: 0px 1px 2px rgba(60, 64, 67, 0.3), 0px 1px 3px 1px rgba(60, 64, 67, 0.15);\n",
              "      fill: #174EA6;\n",
              "    }\n",
              "\n",
              "    [theme=dark] .colab-df-convert {\n",
              "      background-color: #3B4455;\n",
              "      fill: #D2E3FC;\n",
              "    }\n",
              "\n",
              "    [theme=dark] .colab-df-convert:hover {\n",
              "      background-color: #434B5C;\n",
              "      box-shadow: 0px 1px 3px 1px rgba(0, 0, 0, 0.15);\n",
              "      filter: drop-shadow(0px 1px 2px rgba(0, 0, 0, 0.3));\n",
              "      fill: #FFFFFF;\n",
              "    }\n",
              "  </style>\n",
              "\n",
              "      <script>\n",
              "        const buttonEl =\n",
              "          document.querySelector('#df-baeacd9b-013b-49ed-a1a5-6031e7d8b817 button.colab-df-convert');\n",
              "        buttonEl.style.display =\n",
              "          google.colab.kernel.accessAllowed ? 'block' : 'none';\n",
              "\n",
              "        async function convertToInteractive(key) {\n",
              "          const element = document.querySelector('#df-baeacd9b-013b-49ed-a1a5-6031e7d8b817');\n",
              "          const dataTable =\n",
              "            await google.colab.kernel.invokeFunction('convertToInteractive',\n",
              "                                                     [key], {});\n",
              "          if (!dataTable) return;\n",
              "\n",
              "          const docLinkHtml = 'Like what you see? Visit the ' +\n",
              "            '<a target=\"_blank\" href=https://colab.research.google.com/notebooks/data_table.ipynb>data table notebook</a>'\n",
              "            + ' to learn more about interactive tables.';\n",
              "          element.innerHTML = '';\n",
              "          dataTable['output_type'] = 'display_data';\n",
              "          await google.colab.output.renderOutput(dataTable, element);\n",
              "          const docLink = document.createElement('div');\n",
              "          docLink.innerHTML = docLinkHtml;\n",
              "          element.appendChild(docLink);\n",
              "        }\n",
              "      </script>\n",
              "    </div>\n",
              "  </div>\n",
              "  "
            ]
          },
          "metadata": {},
          "execution_count": 9
        }
      ]
    },
    {
      "cell_type": "code",
      "source": [
        "# Visualize Image Resolutions\n",
        "\n",
        "fig = plt.figure(figsize=(8, 8))\n",
        "ax = fig.add_subplot(111)\n",
        "points = ax.scatter(image_meta_df.Width, image_meta_df.Height, color='blue', alpha=0.5, s=image_meta_df[\"Aspect Ratio\"]*100, picker=True)\n",
        "ax.set_title(\"Image Resolution\")\n",
        "ax.set_xlabel(\"Width\", size=10)\n",
        "ax.set_ylabel(\"Height\", size=10)"
      ],
      "metadata": {
        "colab": {
          "base_uri": "https://localhost:8080/",
          "height": 530
        },
        "id": "GE-YrEwX33ph",
        "outputId": "2fd1780f-e94a-4f25-8d41-79bf809dc729"
      },
      "execution_count": 10,
      "outputs": [
        {
          "output_type": "execute_result",
          "data": {
            "text/plain": [
              "Text(0, 0.5, 'Height')"
            ]
          },
          "metadata": {},
          "execution_count": 10
        },
        {
          "output_type": "display_data",
          "data": {
            "text/plain": [
              "<Figure size 576x576 with 1 Axes>"
            ],
            "image/png": "[encoded data removed]"
          },
          "metadata": {
            "needs_background": "light"
          }
        }
      ]
    },
    {
      "cell_type": "code",
      "source": [
        "# There are some outliers, let's remove them first\n",
        "image_meta_df = image_meta_df[image_meta_df[\"Width\"] > 220]\n",
        "image_meta_df = image_meta_df[image_meta_df[\"Height\"] > 300]\n",
        "\n",
        "# Sneak Peak\n",
        "print(f\"The total number of images present are {len(image_meta_df)}\")"
      ],
      "metadata": {
        "colab": {
          "base_uri": "https://localhost:8080/"
        },
        "id": "YQZkVnJ833se",
        "outputId": "300a8246-5e65-41e4-9ab5-a28c20c2bd02"
      },
      "execution_count": 11,
      "outputs": [
        {
          "output_type": "stream",
          "name": "stdout",
          "text": [
            "The total number of images present are 6009\n"
          ]
        }
      ]
    },
    {
      "cell_type": "code",
      "source": [
        "# Visualize Image Resolutions\n",
        "\n",
        "fig = plt.figure(figsize=(8, 8))\n",
        "ax = fig.add_subplot(111)\n",
        "points = ax.scatter(image_meta_df.Width, image_meta_df.Height, color='blue', alpha=0.5, s=image_meta_df[\"Aspect Ratio\"]*100, picker=True)\n",
        "ax.set_title(\"Image Resolution\")\n",
        "ax.set_xlabel(\"Width\", size=10)\n",
        "ax.set_ylabel(\"Height\", size=10)"
      ],
      "metadata": {
        "colab": {
          "base_uri": "https://localhost:8080/",
          "height": 530
        },
        "id": "rMNhwfkL8ZFJ",
        "outputId": "bb878aa3-8e52-4066-c990-7502cab7c94f"
      },
      "execution_count": 12,
      "outputs": [
        {
          "output_type": "execute_result",
          "data": {
            "text/plain": [
              "Text(0, 0.5, 'Height')"
            ]
          },
          "metadata": {},
          "execution_count": 12
        },
        {
          "output_type": "display_data",
          "data": {
            "text/plain": [
              "<Figure size 576x576 with 1 Axes>"
            ],
            "image/png": "[encoded data removed]"
          },
          "metadata": {
            "needs_background": "light"
          }
        }
      ]
    },
    {
      "cell_type": "code",
      "source": [
        "# Storing values for finding cluster means \n",
        "#image_data = image_meta_df.drop_duplicates(subset=[\"Width\", \"Height\"], keep=\"first\")\n",
        "image_data = image_meta_df.drop([\"Image_Name\", \"Image_Size\", \"Aspect Ratio\"], axis=1)\n",
        "\n",
        "# Sneak Peak\n",
        "print(f\"The total number of images present are {len(image_data)}\")\n",
        "image_data.head()"
      ],
      "metadata": {
        "colab": {
          "base_uri": "https://localhost:8080/",
          "height": 223
        },
        "id": "KpqRBdjHCUMa",
        "outputId": "47ad7b0b-03a6-4c62-dd65-328935c1a8fb"
      },
      "execution_count": 26,
      "outputs": [
        {
          "output_type": "stream",
          "name": "stdout",
          "text": [
            "The total number of images present are 6009\n"
          ]
        },
        {
          "output_type": "execute_result",
          "data": {
            "text/plain": [
              "   Width  Height\n",
              "0    372     512\n",
              "1    406     512\n",
              "2    362     512\n",
              "3    382     512\n",
              "4    512     415"
            ],
            "text/html": [
              "\n",
              "  <div id=\"df-015c5192-a686-4e30-85ef-e0989970b98a\">\n",
              "    <div class=\"colab-df-container\">\n",
              "      <div>\n",
              "<style scoped>\n",
              "    .dataframe tbody tr th:only-of-type {\n",
              "        vertical-align: middle;\n",
              "    }\n",
              "\n",
              "    .dataframe tbody tr th {\n",
              "        vertical-align: top;\n",
              "    }\n",
              "\n",
              "    .dataframe thead th {\n",
              "        text-align: right;\n",
              "    }\n",
              "</style>\n",
              "<table border=\"1\" class=\"dataframe\">\n",
              "  <thead>\n",
              "    <tr style=\"text-align: right;\">\n",
              "      <th></th>\n",
              "      <th>Width</th>\n",
              "      <th>Height</th>\n",
              "    </tr>\n",
              "  </thead>\n",
              "  <tbody>\n",
              "    <tr>\n",
              "      <th>0</th>\n",
              "      <td>372</td>\n",
              "      <td>512</td>\n",
              "    </tr>\n",
              "    <tr>\n",
              "      <th>1</th>\n",
              "      <td>406</td>\n",
              "      <td>512</td>\n",
              "    </tr>\n",
              "    <tr>\n",
              "      <th>2</th>\n",
              "      <td>362</td>\n",
              "      <td>512</td>\n",
              "    </tr>\n",
              "    <tr>\n",
              "      <th>3</th>\n",
              "      <td>382</td>\n",
              "      <td>512</td>\n",
              "    </tr>\n",
              "    <tr>\n",
              "      <th>4</th>\n",
              "      <td>512</td>\n",
              "      <td>415</td>\n",
              "    </tr>\n",
              "  </tbody>\n",
              "</table>\n",
              "</div>\n",
              "      <button class=\"colab-df-convert\" onclick=\"convertToInteractive('df-015c5192-a686-4e30-85ef-e0989970b98a')\"\n",
              "              title=\"Convert this dataframe to an interactive table.\"\n",
              "              style=\"display:none;\">\n",
              "        \n",
              "  <svg xmlns=\"http://www.w3.org/2000/svg\" height=\"24px\"viewBox=\"0 0 24 24\"\n",
              "       width=\"24px\">\n",
              "    <path d=\"M0 0h24v24H0V0z\" fill=\"none\"/>\n",
              "    <path d=\"M18.56 5.44l.94 2.06.94-2.06 2.06-.94-2.06-.94-.94-2.06-.94 2.06-2.06.94zm-11 1L8.5 8.5l.94-2.06 2.06-.94-2.06-.94L8.5 2.5l-.94 2.06-2.06.94zm10 10l.94 2.06.94-2.06 2.06-.94-2.06-.94-.94-2.06-.94 2.06-2.06.94z\"/><path d=\"M17.41 7.96l-1.37-1.37c-.4-.4-.92-.59-1.43-.59-.52 0-1.04.2-1.43.59L10.3 9.45l-7.72 7.72c-.78.78-.78 2.05 0 2.83L4 21.41c.39.39.9.59 1.41.59.51 0 1.02-.2 1.41-.59l7.78-7.78 2.81-2.81c.8-.78.8-2.07 0-2.86zM5.41 20L4 18.59l7.72-7.72 1.47 1.35L5.41 20z\"/>\n",
              "  </svg>\n",
              "      </button>\n",
              "      \n",
              "  <style>\n",
              "    .colab-df-container {\n",
              "      display:flex;\n",
              "      flex-wrap:wrap;\n",
              "      gap: 12px;\n",
              "    }\n",
              "\n",
              "    .colab-df-convert {\n",
              "      background-color: #E8F0FE;\n",
              "      border: none;\n",
              "      border-radius: 50%;\n",
              "      cursor: pointer;\n",
              "      display: none;\n",
              "      fill: #1967D2;\n",
              "      height: 32px;\n",
              "      padding: 0 0 0 0;\n",
              "      width: 32px;\n",
              "    }\n",
              "\n",
              "    .colab-df-convert:hover {\n",
              "      background-color: #E2EBFA;\n",
              "      box-shadow: 0px 1px 2px rgba(60, 64, 67, 0.3), 0px 1px 3px 1px rgba(60, 64, 67, 0.15);\n",
              "      fill: #174EA6;\n",
              "    }\n",
              "\n",
              "    [theme=dark] .colab-df-convert {\n",
              "      background-color: #3B4455;\n",
              "      fill: #D2E3FC;\n",
              "    }\n",
              "\n",
              "    [theme=dark] .colab-df-convert:hover {\n",
              "      background-color: #434B5C;\n",
              "      box-shadow: 0px 1px 3px 1px rgba(0, 0, 0, 0.15);\n",
              "      filter: drop-shadow(0px 1px 2px rgba(0, 0, 0, 0.3));\n",
              "      fill: #FFFFFF;\n",
              "    }\n",
              "  </style>\n",
              "\n",
              "      <script>\n",
              "        const buttonEl =\n",
              "          document.querySelector('#df-015c5192-a686-4e30-85ef-e0989970b98a button.colab-df-convert');\n",
              "        buttonEl.style.display =\n",
              "          google.colab.kernel.accessAllowed ? 'block' : 'none';\n",
              "\n",
              "        async function convertToInteractive(key) {\n",
              "          const element = document.querySelector('#df-015c5192-a686-4e30-85ef-e0989970b98a');\n",
              "          const dataTable =\n",
              "            await google.colab.kernel.invokeFunction('convertToInteractive',\n",
              "                                                     [key], {});\n",
              "          if (!dataTable) return;\n",
              "\n",
              "          const docLinkHtml = 'Like what you see? Visit the ' +\n",
              "            '<a target=\"_blank\" href=https://colab.research.google.com/notebooks/data_table.ipynb>data table notebook</a>'\n",
              "            + ' to learn more about interactive tables.';\n",
              "          element.innerHTML = '';\n",
              "          dataTable['output_type'] = 'display_data';\n",
              "          await google.colab.output.renderOutput(dataTable, element);\n",
              "          const docLink = document.createElement('div');\n",
              "          docLink.innerHTML = docLinkHtml;\n",
              "          element.appendChild(docLink);\n",
              "        }\n",
              "      </script>\n",
              "    </div>\n",
              "  </div>\n",
              "  "
            ]
          },
          "metadata": {},
          "execution_count": 26
        }
      ]
    },
    {
      "cell_type": "code",
      "source": [
        "# SSE Method for getting optimum value of number of clusters - Method 1\n",
        "sse = []\n",
        "clusters_required = 10\n",
        "for k in range(1, clusters_required):\n",
        "  km = KMeans(n_clusters = k)\n",
        "  labels = km.fit_predict(image_data)\n",
        "  sse.append(km.inertia_)"
      ],
      "metadata": {
        "id": "VqgLkB9I8ZIJ"
      },
      "execution_count": 27,
      "outputs": []
    },
    {
      "cell_type": "code",
      "source": [
        "K = range(1, clusters_required)\n",
        "plt.figure(figsize=(16,9))\n",
        "# plt.plot(K, sse, color = \"b\", marker = \".\")\n",
        "plt.plot(K, sse, 'bx-') \n",
        "plt.xticks(range(1,16)) \n",
        "plt.xlabel('k')\n",
        "plt.ylabel('SSE')\n",
        "plt.grid()\n",
        "plt.title('The Elbow Method showing the optimal k')\n",
        "plt.show()"
      ],
      "metadata": {
        "id": "VTkkwJbe8ZLB",
        "colab": {
          "base_uri": "https://localhost:8080/",
          "height": 567
        },
        "outputId": "134bc6f1-ecc5-4f41-d838-352c73814ab4"
      },
      "execution_count": 28,
      "outputs": [
        {
          "output_type": "display_data",
          "data": {
            "text/plain": [
              "<Figure size 1152x648 with 1 Axes>"
            ],
            "image/png": "[encoded data removed]"
          },
          "metadata": {
            "needs_background": "light"
          }
        }
      ]
    },
    {
      "cell_type": "code",
      "source": [
        "# Getting image resolution suggestions\n",
        "km = KMeans(n_clusters = 3, random_state = 42)\n",
        "clusters = km.fit_predict(image_data)\n",
        "\n",
        "# Getting frequency\n",
        "cluster_count = {}\n",
        "for co_ord in clusters:\n",
        "  cluster_count[co_ord] = cluster_count.get(co_ord, 0) + 1\n",
        "\n",
        "# Sorting dictionary based on key values\n",
        "cluster_count = sorted(cluster_count.items(), key=lambda x: int(x[1]), reverse=True)\n",
        "\n",
        "# Cluster centers\n",
        "centers = km.cluster_centers_\n",
        "print(f\"Cluster group size - {cluster_count[0][1]} and suggested ressolution is {int(centers[1][0]), int(centers[1][1])}\")\n",
        "print(f\"Cluster group size - {cluster_count[1][1]} and suggested ressolution is {int(centers[2][0]), int(centers[2][1])}\")\n",
        "print(f\"Cluster group size - {cluster_count[2][1]} and suggested ressolution is {int(centers[0][0]), int(centers[0][1])}\")"
      ],
      "metadata": {
        "id": "cXMPnPUd33v1",
        "colab": {
          "base_uri": "https://localhost:8080/"
        },
        "outputId": "b85b8cbf-32da-45d3-fa95-3569e1cef40b"
      },
      "execution_count": 52,
      "outputs": [
        {
          "output_type": "stream",
          "name": "stdout",
          "text": [
            "Cluster group size - 4095 and suggested ressolution is (508, 448)\n",
            "Cluster group size - 1286 and suggested ressolution is (318, 512)\n",
            "Cluster group size - 628 and suggested ressolution is (405, 512)\n"
          ]
        }
      ]
    },
    {
      "cell_type": "code",
      "source": [
        "# Plot to visualize\n",
        "plt.figure(figsize = (16,9))\n",
        "plt.subplot(1,2,1)\n",
        "plt.title(\"Unclustered data\")\n",
        "plt.xlabel(\"Width\")\n",
        "plt.ylabel(\"Height\")\n",
        "plt.grid()\n",
        "plt.scatter(image_data[\"Width\"], image_data[\"Height\"])\n",
        "plt.subplot(1,2,2)\n",
        "plt.title(\"Clustered data\")\n",
        "plt.xlabel(\"Width\")\n",
        "plt.ylabel(\"Height\")\n",
        "plt.grid()\n",
        "plt.scatter(image_data[\"Width\"], image_data[\"Height\"], c = clusters)\n",
        "plt.scatter(centers[:,0], centers[:, 1], s = 200, c = \"red\")  # s - size of the point"
      ],
      "metadata": {
        "colab": {
          "base_uri": "https://localhost:8080/",
          "height": 584
        },
        "id": "sPEkUgpyHQDT",
        "outputId": "275dd666-c845-4635-f4a9-4ed3078ef864"
      },
      "execution_count": 53,
      "outputs": [
        {
          "output_type": "execute_result",
          "data": {
            "text/plain": [
              "<matplotlib.collections.PathCollection at 0x7f32bda4e7d0>"
            ]
          },
          "metadata": {},
          "execution_count": 53
        },
        {
          "output_type": "display_data",
          "data": {
            "text/plain": [
              "<Figure size 1152x648 with 2 Axes>"
            ],
            "image/png": "[encoded data removed]"
          },
          "metadata": {
            "needs_background": "light"
          }
        }
      ]
    },
    {
      "cell_type": "markdown",
      "source": [
        "### Based on above observation, some prefferable resolution sizes for our CNN model can be (224, 224), (256, 256), (384, 384)"
      ],
      "metadata": {
        "id": "omp-YrN_N4pM"
      }
    },
    {
      "cell_type": "code",
      "source": [
        ""
      ],
      "metadata": {
        "id": "0ZOGe4B7Tqct"
      },
      "execution_count": null,
      "outputs": []
    }
  ]
}